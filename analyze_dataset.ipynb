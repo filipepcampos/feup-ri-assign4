{
 "cells": [
  {
   "cell_type": "code",
   "execution_count": 24,
   "metadata": {},
   "outputs": [],
   "source": [
    "import os\n",
    "import cv2\n",
    "import matplotlib.pyplot as plt"
   ]
  },
  {
   "cell_type": "code",
   "execution_count": 25,
   "metadata": {},
   "outputs": [],
   "source": [
    "DEBUG_PATH = './dataset/debug/'\n",
    "IMAGES_PATH = './dataset/images/'\n",
    "LABELS_PATH = './dataset/labels/'"
   ]
  },
  {
   "cell_type": "markdown",
   "metadata": {},
   "source": [
    "## Dataset Bounding Box Drawer\n",
    "\n",
    "For debugging the dataset images and labels, you can use the following code to visualize the images with bounding boxes."
   ]
  },
  {
   "cell_type": "code",
   "execution_count": 26,
   "metadata": {},
   "outputs": [],
   "source": [
    "# For each image in the dataset\n",
    "for filename in os.listdir(IMAGES_PATH):\n",
    "    # Read the image\n",
    "    image = cv2.imread(IMAGES_PATH + filename)\n",
    "\n",
    "    # Get file id\n",
    "    name = filename.split('.')[0]\n",
    "\n",
    "    # Read the corresponding label text\n",
    "    with open(LABELS_PATH + name + '.txt') as f:\n",
    "        content = f.read()\n",
    "    \n",
    "    if content == '':\n",
    "        continue\n",
    "    \n",
    "    # Get the bounding box coordinates\n",
    "    bbox = list(map(int, content.split(' ')[1:5]))\n",
    "\n",
    "    # Draw bounding boxes around the detected areas\n",
    "    x, y, w, h = bbox\n",
    "    cv2.rectangle(image, (x, y), (x + w, y + h), (0, 255, 0), 2)\n",
    "\n",
    "    # Save the image\n",
    "    cv2.imwrite(DEBUG_PATH + filename, image)\n",
    "    "
   ]
  },
  {
   "cell_type": "markdown",
   "metadata": {},
   "source": [
    "## Dataset Samples Distribution\n",
    "\n",
    "Table representation of the dataset samples distribution. The rows represent the map name and the columns represent the class name. The values are the number of samples of each class in each map.\n",
    "\n",
    "Classes are: None, Duckie and Duckiebot."
   ]
  },
  {
   "cell_type": "code",
   "execution_count": 29,
   "metadata": {},
   "outputs": [
    {
     "name": "stdout",
     "output_type": "stream",
     "text": [
      "ETH_small_intersect {'no_class': 5, 'duckie_class': 0, 'duckiebot_class': 39}\n"
     ]
    }
   ],
   "source": [
    "data = {}\n",
    "\n",
    "for filename in os.listdir(LABELS_PATH):\n",
    "    name = filename.split('.')[0]\n",
    "    with open(LABELS_PATH + filename) as f:\n",
    "        content = f.read()\n",
    "    \n",
    "    map_name = '_'.join(name.split('_')[1:])\n",
    "    if map_name not in data:\n",
    "        data[map_name] = {'no_class':0, 'duckie_class':0, 'duckiebot_class':0}\n",
    "    \n",
    "    if content == '':\n",
    "        data[map_name]['no_class'] += 1\n",
    "    else:\n",
    "        class_id = int(content.split(' ')[0])\n",
    "        if class_id == 0:\n",
    "            data[map_name]['duckie_class'] += 1\n",
    "        elif class_id == 1:\n",
    "            data[map_name]['duckiebot_class'] += 1\n",
    "\n",
    "for map_name in data:\n",
    "    print(map_name, data[map_name])"
   ]
  }
 ],
 "metadata": {
  "kernelspec": {
   "display_name": "ri-assign3",
   "language": "python",
   "name": "python3"
  },
  "language_info": {
   "codemirror_mode": {
    "name": "ipython",
    "version": 3
   },
   "file_extension": ".py",
   "mimetype": "text/x-python",
   "name": "python",
   "nbconvert_exporter": "python",
   "pygments_lexer": "ipython3",
   "version": "3.8.18"
  }
 },
 "nbformat": 4,
 "nbformat_minor": 2
}
